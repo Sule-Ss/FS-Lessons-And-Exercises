{
 "cells": [
  {
   "cell_type": "code",
   "execution_count": 1,
   "metadata": {},
   "outputs": [],
   "source": [
    "# Create a function that calculates the number of different squares in an n * n square grid. Check the Resources tab.\n",
    "# Examples\n",
    "# numberSquares(2) ➞ 5\n",
    "# numberSquares(4) ➞ 30\n",
    "# numberSquares(5) ➞ 55\n",
    "# Explanation\n",
    "# If n = 0 then the number of squares is 0\n",
    "# If n = 1 then the number of squares is 1 + 0 = 1\n",
    "# If n = 2 then the number of squares is 2^2 + 1 = 4 + 1 = 5\n",
    "# If n = 3 then the number of squares is 3^2 + 5 = 9 + 5 = 14\n",
    "# As you can see, for each value of n the number of squares is n squared + the number of squares from the previous value of n."
   ]
  },
  {
   "cell_type": "markdown",
   "metadata": {},
   "source": [
    "    First, print each vowel in  on a new line. The English vowels are a, e, i, o, and u, and each vowel must be printed in the same order as it appeared in .\n",
    "    Second, print each consonant (i.e., non-vowel) in  on a new line in the same order as it appeared in .\n",
    "    Sample Input:\n",
    "    javascriptloops\n",
    "    Sample Output:\n",
    "    a\n",
    "    a\n",
    "    i\n",
    "    o\n",
    "    o\n",
    "    j\n",
    "    v\n",
    "    s\n",
    "    c\n",
    "    r\n",
    "    p\n",
    "    t\n",
    "    l\n",
    "    p\n",
    "    s\n",
    "    Explanation\n",
    "    Observe the following:\n",
    "    Each letter is printed on a new line.\n",
    "    Then the vowels are printed in the same order as they appeared in .\n",
    "    Then the consonants are printed in the same order as they appeared in ."
   ]
  },
  {
   "cell_type": "code",
   "execution_count": 2,
   "metadata": {},
   "outputs": [
    {
     "name": "stdout",
     "output_type": "stream",
     "text": [
      "a\n",
      "a\n",
      "i\n",
      "o\n",
      "o\n",
      "j\n",
      "v\n",
      "s\n",
      "c\n",
      "r\n",
      "p\n",
      "t\n",
      "l\n",
      "p\n",
      "s\n"
     ]
    }
   ],
   "source": [
    "vowel = 'aeiou'\n",
    "string = 'javascriptloops'\n",
    "\n",
    "part1 = \"\"\n",
    "part2 = \"\"\n",
    "for i in list(string) :\n",
    "    if i in vowel:\n",
    "        part1 += i  \n",
    "    else :\n",
    "        part2 += i \n",
    "\n",
    "result = part1 + part2 \n",
    "\n",
    "for ii in  result:\n",
    "    print(ii)"
   ]
  },
  {
   "cell_type": "markdown",
   "metadata": {},
   "source": [
    "    Ask user to enter a word, a separator and number of repetitions. Write a Python/JS code displaying the word with repetition times and having each word separated with separator character.\n",
    "    For example, if user entered word as Tina, separator as ! and repetitions as 3 expected output is \"Tina!Tina!Tina\"  \n",
    "    Be careful there is no separator character at the end."
   ]
  },
  {
   "cell_type": "code",
   "execution_count": null,
   "metadata": {},
   "outputs": [],
   "source": [
    "word        = input(\"Word        :\")\n",
    "seperator   = input(\"Seperator   :\")\n",
    "repeat      = int(input(\"Repetition :\"))\n",
    "\n",
    "wordArray   = [word for i in range(repeat)]\n",
    "print(seperator.join(wordArray));"
   ]
  },
  {
   "cell_type": "code",
   "execution_count": null,
   "metadata": {},
   "outputs": [],
   "source": [
    "def wordSentez():\n",
    "  word = input(\"please enter word...\")\n",
    "  howMany = int(input(\"how many times to enter...\"))\n",
    "  separator = input(\"please enter separator...\")\n",
    "  output= \"\"\n",
    "  unit = (word+separator)\n",
    "  for i in range(0,howMany):\n",
    "    output+=unit\n",
    "    \n",
    "  return output.strip(separator)"
   ]
  },
  {
   "cell_type": "markdown",
   "metadata": {},
   "source": [
    "    Write a Python/JavaScript code that counts how many vowels and constants a string has that a user entered."
   ]
  },
  {
   "cell_type": "code",
   "execution_count": null,
   "metadata": {},
   "outputs": [],
   "source": [
    "text = input(\"Please enter a string : \").lower()\n",
    "constants = 0\n",
    "vowels = 0\n",
    "for char in text:\n",
    "    if char in set(\"aeıioöuü\"):\n",
    "        vowels += 1\n",
    "    elif char in set(\"bcçdfgğhjklmnpqrsştwxyz\"):\n",
    "        constants += 1\n",
    "print(f\"Your text has {vowels} vowels and {constants} constants\")"
   ]
  },
  {
   "cell_type": "code",
   "execution_count": null,
   "metadata": {},
   "outputs": [],
   "source": [
    "def vowelConsonant(myStr=input().lower()):\n",
    "  vowel=0\n",
    "  consonant=0\n",
    "  for i in myStr:\n",
    "    if i in \"aeiou\":vowel+=1\n",
    "    elif i in \"bcdfghjklmnpqrstvwxyz\":consonant+=1\n",
    "  return f\"vowel:{vowel},consonant:{consonant}\"\n",
    "vowelConsonant()"
   ]
  },
  {
   "cell_type": "markdown",
   "metadata": {},
   "source": [
    "    Write a Python/JS code to sort the list/array below without using .sort() method of list/array.\n",
    "    elements of list/array = [999, 333, 2, 8982, 12, 45, 77, 99, 11]\n",
    "    Expected output:\n",
    "    [2, 11, 12, 45, 77, 99, 333, 999, 8982]"
   ]
  },
  {
   "cell_type": "code",
   "execution_count": null,
   "metadata": {},
   "outputs": [],
   "source": [
    "def mySort(myArray):\n",
    "  count=0\n",
    "  while (count<len(myArray)-1):\n",
    "    count=0\n",
    "    for i in range(len(myArray)-1):\n",
    "      if myArray[i]>myArray[i+1]:\n",
    "        myArray.insert(i+1,myArray.pop(i))\n",
    "      else:\n",
    "        count+=1\n",
    "  return myArray\n",
    "mySort([999, 333, 2, 8982, 12, 45, 77, 99, 11])"
   ]
  },
  {
   "cell_type": "code",
   "execution_count": null,
   "metadata": {},
   "outputs": [],
   "source": [
    "mylist = [999, 333, 2, 8982, 12, 45, 77, 99, 11]\n",
    "for i in range(len(mylist)-1):\n",
    "    for j in range(i+1,len(mylist)):\n",
    "        if mylist[i] > mylist[j]:  # mylist[i], mylist[j] = mylist[j], mylist[i]\n",
    "            temp = mylist[i]\n",
    "            mylist[i] = mylist[j]\n",
    "            mylist[j] = temp\n",
    "print(mylist) "
   ]
  },
  {
   "cell_type": "markdown",
   "metadata": {},
   "source": [
    "    Write a Python/JS code to find greatest common divisor (gcd) of 2 numbers.  \n",
    "    Example:  \n",
    "    gcd of 6, 9 ---> 3  \n",
    "    gcd of 120, 90 --> 30"
   ]
  },
  {
   "cell_type": "code",
   "execution_count": null,
   "metadata": {},
   "outputs": [],
   "source": [
    "gcd = lambda x,y : [i for i in range(min(x,y),0,-1) if x%i == y%i == 0][0]\n",
    "print(gcd(120,90))"
   ]
  },
  {
   "cell_type": "code",
   "execution_count": null,
   "metadata": {},
   "outputs": [],
   "source": [
    "def ebob(x,y):\n",
    "  list = [x,y]\n",
    "  ebob =[]\n",
    "  for i in reversed(range(1, max(x,y))):\n",
    "    if sum([j % i for j in list]) == 0:\n",
    "      ebob.append(i)\n",
    "  return ebob[0]"
   ]
  },
  {
   "cell_type": "markdown",
   "metadata": {},
   "source": [
    "    Write a Python/JS code to find the numbers that are grater than 150 at below text, and sort these numbers.\n",
    "    text = \"Maradona spent 5 years at Argentinos Juniors, from 1976 to 1981 , scoring 115 goals in 167 appearances.\""
   ]
  },
  {
   "cell_type": "code",
   "execution_count": null,
   "metadata": {},
   "outputs": [],
   "source": [
    "text = \"Maradona spent 5 years at Argentinos Juniors, from 1976 to 1981 , scoring 115 goals in 167 appearances.\".split(\" \")\n",
    "\n",
    "list_number = []\n",
    "\n",
    "for i in text:\n",
    "    if i.isnumeric() and int(i) > 150:\n",
    "        list_number.append(i)\n",
    "    else:\n",
    "        continue\n",
    "\n",
    "list_number.sort()\n",
    "\n",
    "print(list_number)"
   ]
  },
  {
   "cell_type": "code",
   "execution_count": null,
   "metadata": {},
   "outputs": [],
   "source": [
    "text = \"Maradona spent 5 years at Argentinos Juniors, from 1976 to 1981 , scoring 115 goals in 167 appearances.\".split(\" \")\n",
    "\n",
    "print(sorted([i for i in text if i.isnumeric() and int(i) > 150]))"
   ]
  },
  {
   "cell_type": "code",
   "execution_count": null,
   "metadata": {},
   "outputs": [],
   "source": [
    "text = \"Maradona spent 5 years at Argentinos Juniors, from 1976 to 1981 , scoring 115 goals in 167 appearances.\"\n",
    "\n",
    "print(sorted(filter(lambda x: x.isnumeric() and int(x) > 150 , text.split())))"
   ]
  },
  {
   "cell_type": "markdown",
   "metadata": {},
   "source": [
    "    This is an interview question asked by Google.\n",
    "    Given a list of numbers and a number k, return whether any two numbers from the list add up to k.\n",
    "    For example, given [10, 15, 3, 7] and k of 17, return true since 10 + 7 is 17."
   ]
  },
  {
   "cell_type": "code",
   "execution_count": null,
   "metadata": {},
   "outputs": [],
   "source": [
    "def findPairs(list,k):\n",
    "    for i in range(len(list)):\n",
    "        if (k-list[i]) in list:\n",
    "            return True\n",
    "        \n",
    "    return False\n",
    "\n",
    "list1 = [15,10,3,7]\n",
    "k = 17\n",
    "findPairs(list1,k)"
   ]
  },
  {
   "cell_type": "code",
   "execution_count": null,
   "metadata": {},
   "outputs": [],
   "source": [
    "liste = [10, 15, 3, 7]\n",
    "k = 17\n",
    "for i in liste:\n",
    "  for j in liste:\n",
    "    if i + j == k and i > j:\n",
    "      print(i,\"+\",j ,\"=\",k)"
   ]
  },
  {
   "cell_type": "markdown",
   "metadata": {},
   "source": [
    "    This is an interview question asked by Uber.\n",
    "    Given an array of integers, return a new array such that each element at index i of the new array is the product of all the numbers in the original array except the one at i.\n",
    "    For example, if our input was [1, 2, 3, 4, 5], the expected output would be [120, 60, 40, 30, 24]. If our input was [3, 2, 1], the expected output would be [2, 3, 6].\n",
    "    Follow-up: what if you can't use division?"
   ]
  },
  {
   "cell_type": "code",
   "execution_count": null,
   "metadata": {},
   "outputs": [],
   "source": [
    "def getProductArray(numbers):\n",
    "    productOfNumbers = []\n",
    "    for i in numbers:\n",
    "        total = 1;\n",
    "        for j in numbers: total *= j if i != j else 1\n",
    "        productOfNumbers.append(total)\n",
    "    return productOfNumbers\n",
    "\n",
    "print(getProductArray([1, 2, 3, 4 ,5]))"
   ]
  },
  {
   "cell_type": "code",
   "execution_count": null,
   "metadata": {},
   "outputs": [],
   "source": [
    "def product_numbers(list):\n",
    "    list2=[]\n",
    "    for i in range(len(list)):\n",
    "        number = 1\n",
    "        for j in range(len(list)):\n",
    "            if i != j :\n",
    "                number *= list[j]\n",
    "        list2.append(number)\n",
    "\n",
    "    return list2\n",
    "\n",
    "list = [1, 2, 3, 4, 5]\n",
    "\n",
    "print(product_numbers(list))"
   ]
  },
  {
   "cell_type": "markdown",
   "metadata": {},
   "source": [
    "This is an interview question asked by Twitter.\n",
    "Implement an autocomplete system. That is, given a query string s and a set of all possible query strings, return all strings in the set that have s as a prefix.\n",
    "For example, given the query string de and the set of strings [dog, deer, deal], return [deer, deal]."
   ]
  },
  {
   "cell_type": "code",
   "execution_count": null,
   "metadata": {},
   "outputs": [],
   "source": [
    "emptyList = []\n",
    "def System(word, list):\n",
    "  for i in list:\n",
    "    if i.startswith(word):\n",
    "      emptyList.append(i)\n",
    "  print(emptyList)\n",
    "System(\"de\",[\"dog\", \"deer\", \"deal\"]);"
   ]
  },
  {
   "cell_type": "code",
   "execution_count": null,
   "metadata": {},
   "outputs": [],
   "source": [
    "def queryString(arr,str):\n",
    "  strLen = len(str)\n",
    "  return [i for i in arr if i[0:strLen]==str]\n",
    "queryString([\"dog\", \"deer\", \"deal\"],\"de\")"
   ]
  },
  {
   "cell_type": "markdown",
   "metadata": {},
   "source": [
    "    This is an interview question asked by Amazon.\n",
    "    There exists a staircase with N steps, and you can climb up either 1 or 2 steps at a time. Given N, write a function that returns the number of unique ways you can climb the staircase. The order of the steps matters.\n",
    "    For example, if N is 4, then there are 5 unique ways:  \n",
    "    1, 1, 1, 1  \n",
    "    2, 1, 1  \n",
    "    1, 2, 1  \n",
    "    1, 1, 2  \n",
    "    2, 2"
   ]
  },
  {
   "cell_type": "code",
   "execution_count": null,
   "metadata": {},
   "outputs": [],
   "source": [
    "function word(n) {\n",
    "    if(n <= 1){\n",
    "        return 1\n",
    "    }else{\n",
    "        return word(n-1)+ word(n - 2)\n",
    "    }\n",
    "};\n",
    "console.log(word(4));"
   ]
  },
  {
   "cell_type": "markdown",
   "metadata": {},
   "source": [
    "    This is an interview question asked by Amazon.\n",
    "    Given an integer k and a string s, find the length of the longest substring that contains at most k distinct characters.\n",
    "    For example, given s = \"abcba\" and k = 2, the longest substring with k distinct characters is \"bcb\"."
   ]
  },
  {
   "cell_type": "code",
   "execution_count": null,
   "metadata": {},
   "outputs": [],
   "source": [
    "def longestPiece(s, k):\n",
    "    longest = s[0:k]\n",
    "    for i in range(len(s)):\n",
    "        for j in range(len(s), i + k-1,-1):\n",
    "            if (len(set(s[i:j+1])) == k and len(s[i:j+1]) > len(longest)):\n",
    "                longest = s[i:j+1]\n",
    "    print(\"Longest: \", longest)\n",
    "\n",
    "longestPiece(\"abcba\", 2)       # Longest : bcb\n",
    "longestPiece(\"abcba\", 3);       # Longest : abcba\n",
    "longestPiece(\"abbccaabba\", 2);  # Longest : aabba"
   ]
  },
  {
   "cell_type": "markdown",
   "metadata": {},
   "source": [
    "    This is an interview question\n",
    "    Longest Substring Without Repeating Characters\n",
    "    Level: Medium\n",
    "    Given a string s, find the length of the longest substring without repeating characters.\n",
    "    Example 1:\n",
    "    Input: s = \"abcabcbb\"\n",
    "    Output: 3\n",
    "    Explanation: The answer is \"abc\", with the length of 3.\n",
    "    Example 2:\n",
    "    Input: s = \"bbbbb\"\n",
    "    Output: 1\n",
    "    Explanation: The answer is \"b\", with the length of 1.\n",
    "    Example 3:\n",
    "    Input: s = \"pwwkew\"\n",
    "    Output: 3\n",
    "    Explanation: The answer is \"wke\", with the length of 3.\n",
    "    Notice that the answer must be a substring, \"pwke\" is a subsequence and not a substring."
   ]
  },
  {
   "cell_type": "code",
   "execution_count": null,
   "metadata": {},
   "outputs": [],
   "source": [
    "def longestSubstring(s):\n",
    "  _s=[(len(s[i:j]),s[i:j]) for i in range(len(s)) for j in range(len(s),0,-1) if len(s[i:j])==len(set(s[i:j]))]\n",
    "  return max(_s)[0]\n",
    "longestSubstring(\"abcabcbb\") "
   ]
  },
  {
   "cell_type": "code",
   "execution_count": null,
   "metadata": {},
   "outputs": [],
   "source": [
    "def longestPiece(s):\n",
    "    longest = s[0]\n",
    "    for i in range(len(s)):\n",
    "        for j in range(len(s), i-1 ,-1):\n",
    "            if (len(set(s[i:j+1])) == len(s[i:j+1]) and len(s[i:j+1]) > len(longest)):\n",
    "                longest = s[i:j+1]\n",
    "\n",
    "    print(f'The answer is \"{longest}\", with the length of {len(longest)}.')\n",
    "\n",
    "longestPiece(\"abcabcbb\")   # The answer is \"abc\", with the length of 3.\n",
    "longestPiece(\"bbbbb\");     # The answer is \"b\", with the length of 1.\n",
    "longestPiece(\"pwwkew\");    # The answer is \"wke\", with the length of 3."
   ]
  },
  {
   "cell_type": "markdown",
   "metadata": {},
   "source": [
    "    This is an interview question asked by Google.\n",
    "    Given an array of integers and a number k, where 1 <= k <= length of the array, compute the maximum values of each subarray of length k.\n",
    "    For example, given array = [10, 5, 2, 7, 8, 7] and k = 3, we should get: [10, 7, 8, 8], since:\n",
    "    10 = max(10, 5, 2) \n",
    "    7 = max(5, 2, 7) \n",
    "    8 = max(2, 7, 8)\n",
    "    8 = max(7, 8, 7)"
   ]
  },
  {
   "cell_type": "code",
   "execution_count": null,
   "metadata": {},
   "outputs": [],
   "source": [
    "def maxOfSubArrays(array,k):\n",
    "    for i in range(len(array)-k+1):\n",
    "        print(max(array[i: k + i]), f\"= max{tuple(array[i: k + i])}\")\n",
    "\n",
    "maxOfSubArrays([10, 5, 2, 7, 8, 7], 3)"
   ]
  },
  {
   "cell_type": "code",
   "execution_count": null,
   "metadata": {},
   "outputs": [],
   "source": [
    "def maxSubarray(arr,k):\n",
    "  count,_arr=0,[]\n",
    "  while count<len(arr)-k+1:\n",
    "    _arr.append(max(arr[count:count+k]))\n",
    "    count+=1\n",
    "  return _arr\n",
    "maxSubarray([10, 5, 2, 7, 8, 7],3)"
   ]
  },
  {
   "cell_type": "markdown",
   "metadata": {},
   "source": [
    "    This is an interview question asked by Facebook.\n",
    "    Given a string of round, curly, and square open and closing brackets, return whether the brackets are balanced (well-formed).\n",
    "    For example, given the string \"([])\", you should return true.\n",
    "    Given the string \"([)]\" or \"((()\", you should return false."
   ]
  },
  {
   "cell_type": "code",
   "execution_count": null,
   "metadata": {},
   "outputs": [],
   "source": [
    "def wellFormedString(string):\n",
    "    while \"()\" in string or \"[]\" in string or \"{}\" in string:\n",
    "        string = string.replace(\"()\", \"\").replace(\"[]\", \"\").replace(\"{}\", \"\")\n",
    "    return string == \"\"\n",
    "\n",
    "\n",
    "print(wellFormedString(\"([{({})}]({}))\")) #? Output: True\n",
    "print(wellFormedString(\"((()\"))           #? Output: False\n",
    "print(wellFormedString(\"([)]\"))           #? Output: False\n",
    "print(wellFormedString(\"([])\"))           #? Output: True"
   ]
  },
  {
   "cell_type": "code",
   "execution_count": null,
   "metadata": {},
   "outputs": [],
   "source": [
    "def check(value):\n",
    "    opt1 = \"({[\"\n",
    "    opt2 = \")}]\"\n",
    "    dic = {\")\": \"(\", \"}\": \"{\", \"]\": \"[\"}\n",
    "    list = []\n",
    "\n",
    "    for i in value:\n",
    "        if i in opt1:\n",
    "            list.append(i)\n",
    "        elif i in opt2:\n",
    "            if len(list) == 0:\n",
    "                return False\n",
    "            if list[-1] == dic[i]:\n",
    "                list.pop()\n",
    "            else:\n",
    "                return False\n",
    "    return len(list) == 0\n",
    "check(\"([])[]({}\")"
   ]
  },
  {
   "cell_type": "markdown",
   "metadata": {},
   "source": [
    "    This is an interview question asked by Airbnb.\n",
    "    Given a list of integers, write a function that returns the largest sum of non-adjacent numbers. Numbers can be 0 or negative.\n",
    "    For example,\n",
    "    [2, 4, 6, 2, 5] should return 13, since we pick 2, 6, and 5.\n",
    "    [5, 1, 1, 5] should return 10, since we pick 5 and 5."
   ]
  },
  {
   "cell_type": "code",
   "execution_count": null,
   "metadata": {},
   "outputs": [],
   "source": [
    "def largestNonAdjacent(arr):\n",
    "  n = len(arr)\n",
    "  if (n == 1): return arr[-1]\n",
    "  if (n == 2): return max(arr[-1],arr[-2])\n",
    "  else: maxNum = max(largestNonAdjacent(arr[:-1]), (arr[-1] + largestNonAdjacent(arr[:-2])))\n",
    "        \n",
    "  return maxNum\n"
   ]
  },
  {
   "cell_type": "markdown",
   "metadata": {},
   "source": [
    "Try to find out if a number you get from the user is perfect. A number is called a \"perfect number\" if the sum of its divisors is equal to itself. For example, 6 is a perfect number. (1 + 2 + 3 = 6)"
   ]
  },
  {
   "cell_type": "markdown",
   "metadata": {},
   "source": []
  }
 ],
 "metadata": {
  "interpreter": {
   "hash": "4823ac0f73e6f43cff2369f93c64e53b715f850adbb7c1fdc597e518a362f12a"
  },
  "kernelspec": {
   "display_name": "Python 3.9.10 64-bit (windows store)",
   "language": "python",
   "name": "python3"
  },
  "language_info": {
   "codemirror_mode": {
    "name": "ipython",
    "version": 3
   },
   "file_extension": ".py",
   "mimetype": "text/x-python",
   "name": "python",
   "nbconvert_exporter": "python",
   "pygments_lexer": "ipython3",
   "version": "3.9.10"
  },
  "orig_nbformat": 4
 },
 "nbformat": 4,
 "nbformat_minor": 2
}
