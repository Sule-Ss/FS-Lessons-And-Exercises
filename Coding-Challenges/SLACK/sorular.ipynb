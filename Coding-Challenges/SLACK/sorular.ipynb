{
 "cells": [
  {
   "cell_type": "code",
   "execution_count": 1,
   "metadata": {},
   "outputs": [],
   "source": [
    "# Create a function that calculates the number of different squares in an n * n square grid. Check the Resources tab.\n",
    "# Examples\n",
    "# numberSquares(2) ➞ 5\n",
    "# numberSquares(4) ➞ 30\n",
    "# numberSquares(5) ➞ 55\n",
    "# Explanation\n",
    "# If n = 0 then the number of squares is 0\n",
    "# If n = 1 then the number of squares is 1 + 0 = 1\n",
    "# If n = 2 then the number of squares is 2^2 + 1 = 4 + 1 = 5\n",
    "# If n = 3 then the number of squares is 3^2 + 5 = 9 + 5 = 14\n",
    "# As you can see, for each value of n the number of squares is n squared + the number of squares from the previous value of n."
   ]
  },
  {
   "cell_type": "markdown",
   "metadata": {},
   "source": [
    "    First, print each vowel in  on a new line. The English vowels are a, e, i, o, and u, and each vowel must be printed in the same order as it appeared in .\n",
    "    Second, print each consonant (i.e., non-vowel) in  on a new line in the same order as it appeared in .\n",
    "    Sample Input:\n",
    "    javascriptloops\n",
    "    Sample Output:\n",
    "    a\n",
    "    a\n",
    "    i\n",
    "    o\n",
    "    o\n",
    "    j\n",
    "    v\n",
    "    s\n",
    "    c\n",
    "    r\n",
    "    p\n",
    "    t\n",
    "    l\n",
    "    p\n",
    "    s\n",
    "    Explanation\n",
    "    Observe the following:\n",
    "    Each letter is printed on a new line.\n",
    "    Then the vowels are printed in the same order as they appeared in .\n",
    "    Then the consonants are printed in the same order as they appeared in ."
   ]
  },
  {
   "cell_type": "code",
   "execution_count": 2,
   "metadata": {},
   "outputs": [
    {
     "name": "stdout",
     "output_type": "stream",
     "text": [
      "a\n",
      "a\n",
      "i\n",
      "o\n",
      "o\n",
      "j\n",
      "v\n",
      "s\n",
      "c\n",
      "r\n",
      "p\n",
      "t\n",
      "l\n",
      "p\n",
      "s\n"
     ]
    }
   ],
   "source": [
    "vowel = 'aeiou'\n",
    "string = 'javascriptloops'\n",
    "\n",
    "part1 = \"\"\n",
    "part2 = \"\"\n",
    "for i in list(string) :\n",
    "    if i in vowel:\n",
    "        part1 += i  \n",
    "    else :\n",
    "        part2 += i \n",
    "\n",
    "result = part1 + part2 \n",
    "\n",
    "for ii in  result:\n",
    "    print(ii)"
   ]
  },
  {
   "cell_type": "markdown",
   "metadata": {},
   "source": [
    "Try to find out if a number you get from the user is perfect. A number is called a \"perfect number\" if the sum of its divisors is equal to itself. For example, 6 is a perfect number. (1 + 2 + 3 = 6)"
   ]
  },
  {
   "cell_type": "markdown",
   "metadata": {},
   "source": []
  }
 ],
 "metadata": {
  "interpreter": {
   "hash": "4823ac0f73e6f43cff2369f93c64e53b715f850adbb7c1fdc597e518a362f12a"
  },
  "kernelspec": {
   "display_name": "Python 3.9.10 64-bit (windows store)",
   "language": "python",
   "name": "python3"
  },
  "language_info": {
   "codemirror_mode": {
    "name": "ipython",
    "version": 3
   },
   "file_extension": ".py",
   "mimetype": "text/x-python",
   "name": "python",
   "nbconvert_exporter": "python",
   "pygments_lexer": "ipython3",
   "version": "3.9.10"
  },
  "orig_nbformat": 4
 },
 "nbformat": 4,
 "nbformat_minor": 2
}
