{
 "cells": [
  {
   "cell_type": "markdown",
   "metadata": {},
   "source": [
    "    Proje 1\n",
    "    [22,27,16,2,18,6] -> Insertion Sort\n",
    "\n",
    "    1) Yukarı verilen dizinin sort türüne göre aşamalarını yazınız.\n",
    "    2) Big-O gösterimini yazınız.\n",
    "     Time Complexity: Average case: Aradığımız sayının ortada olması,Worst case: Aradığımız sayının sonda olması, Best case: Aradığımız sayının dizinin en başında olması.\n",
    "    3) Dizi sıralandıktan sonra 18 sayısı hangi case kapsamına girer? Yazınız.\n",
    "\n",
    "\n",
    "    4) [7,3,5,8,2,9,4,15,6] dizisinin Insertion Sort'a göre ilk 4 adımını yazınız"
   ]
  },
  {
   "cell_type": "markdown",
   "metadata": {},
   "source": [
    "    1) [22,27,16,2,18,6] [2,27,16,22,18,6] [2,6,16,22,18,27] [2,6,16,18,22,27]\n",
    "\n",
    "    2) O(n^2) --> n=6 --> O(36)\n",
    "\n",
    "    3) Average case.Sayı dizinin ortasında.\n",
    "\n",
    "    4) [2,3,5,8,7,9,4,15,6] [2,3,4,8,7,9,5,15,6] [2,3,4,5,7,9,8,15,6] [2,3,4,5,6,9,8,15,7]"
   ]
  },
  {
   "cell_type": "markdown",
   "metadata": {},
   "source": []
  },
  {
   "cell_type": "markdown",
   "metadata": {},
   "source": []
  },
  {
   "cell_type": "markdown",
   "metadata": {},
   "source": [
    "    Proje 2\n",
    "    [16,21,11,8,12,22] -> Merge Sort\n",
    "\n",
    "    Yukarıdaki dizinin sort türüne göre aşamalarını yazınız.\n",
    "    Big-O gösterimini yazınız."
   ]
  },
  {
   "cell_type": "markdown",
   "metadata": {},
   "source": [
    "    [16,21,11] [8,12,22] [16] [21,11] [8] [12,22] [16] [11,21] [8] [12,22] [11,16,21] [8,12,22] [8,11,12,16,21,22]\n",
    "\n",
    "    O(nlogn)-->O(6log6)"
   ]
  },
  {
   "cell_type": "markdown",
   "metadata": {},
   "source": []
  },
  {
   "cell_type": "markdown",
   "metadata": {},
   "source": []
  },
  {
   "cell_type": "markdown",
   "metadata": {},
   "source": [
    "    Proje 3\n",
    "    [7, 5, 1, 8, 3, 6, 0, 9, 4, 2] dizisinin Binary-Search-Tree aşamalarını yazınız.\n",
    "\n",
    "    Örnek: root x'dir. root'un sağından y bulunur. Solunda z bulunur vb."
   ]
  },
  {
   "cell_type": "markdown",
   "metadata": {},
   "source": [
    "    root = 5 => sağında = 7 => solunda = 3"
   ]
  },
  {
   "cell_type": "markdown",
   "metadata": {},
   "source": []
  }
 ],
 "metadata": {
  "interpreter": {
   "hash": "94dfd0829861ea723591b3001b7b8d6efd29c21741fffd6b6a162c01382c010b"
  },
  "kernelspec": {
   "display_name": "Python 3.10.2 64-bit",
   "language": "python",
   "name": "python3"
  },
  "language_info": {
   "codemirror_mode": {
    "name": "ipython",
    "version": 3
   },
   "file_extension": ".py",
   "mimetype": "text/x-python",
   "name": "python",
   "nbconvert_exporter": "python",
   "pygments_lexer": "ipython3",
   "version": "3.10.2"
  },
  "orig_nbformat": 4
 },
 "nbformat": 4,
 "nbformat_minor": 2
}
