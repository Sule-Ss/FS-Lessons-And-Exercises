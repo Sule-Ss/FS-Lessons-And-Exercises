{
 "cells": [
  {
   "cell_type": "code",
   "execution_count": 15,
   "metadata": {},
   "outputs": [
    {
     "name": "stdout",
     "output_type": "stream",
     "text": [
      "15. index : 377\n"
     ]
    }
   ],
   "source": [
    "def fibonacci_numbers() :\n",
    "    n = int(input(\"please enter the number of index :\"))\n",
    "    fib_list = [0, 1]\n",
    "    for i in range(n-2):\n",
    "        a = fib_list[-1]\n",
    "        b = fib_list[-2]\n",
    "        c = a + b\n",
    "        fib_list.append(c)\n",
    "    return f\"{n}. index : {fib_list[n-1]}\"\n",
    "print(fibonacci_numbers())"
   ]
  }
 ],
 "metadata": {
  "interpreter": {
   "hash": "4823ac0f73e6f43cff2369f93c64e53b715f850adbb7c1fdc597e518a362f12a"
  },
  "kernelspec": {
   "display_name": "Python 3.9.10 64-bit (windows store)",
   "language": "python",
   "name": "python3"
  },
  "language_info": {
   "codemirror_mode": {
    "name": "ipython",
    "version": 3
   },
   "file_extension": ".py",
   "mimetype": "text/x-python",
   "name": "python",
   "nbconvert_exporter": "python",
   "pygments_lexer": "ipython3",
   "version": "3.9.10"
  },
  "orig_nbformat": 4
 },
 "nbformat": 4,
 "nbformat_minor": 2
}
