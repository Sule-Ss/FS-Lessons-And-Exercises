{
 "cells": [
  {
   "cell_type": "code",
   "execution_count": 7,
   "metadata": {},
   "outputs": [
    {
     "name": "stdout",
     "output_type": "stream",
     "text": [
      "desrever\n"
     ]
    }
   ],
   "source": [
    " # 1st way:\n",
    " a = input(\"Enter a word :\")\n",
    " a = a[::-1]\n",
    "print(a)"
   ]
  },
  {
   "cell_type": "code",
   "execution_count": 29,
   "metadata": {},
   "outputs": [
    {
     "name": "stdout",
     "output_type": "stream",
     "text": [
      "dlrow olleh\n"
     ]
    }
   ],
   "source": [
    "# 2nd way :\n",
    "string1 = input(\"Enter a string : \")\n",
    "string = list(reversed(string1))\n",
    "reverse = \"\"\n",
    "for i in string :\n",
    "    reverse += reverse.join(i)\n",
    "print(reverse)"
   ]
  },
  {
   "cell_type": "code",
   "execution_count": null,
   "metadata": {},
   "outputs": [],
   "source": [
    "string2 = input(\"Enter a string : \")\n",
    "\n",
    "\n"
   ]
  }
 ],
 "metadata": {
  "interpreter": {
   "hash": "94dfd0829861ea723591b3001b7b8d6efd29c21741fffd6b6a162c01382c010b"
  },
  "kernelspec": {
   "display_name": "Python 3.10.0 64-bit",
   "language": "python",
   "name": "python3"
  },
  "language_info": {
   "codemirror_mode": {
    "name": "ipython",
    "version": 3
   },
   "file_extension": ".py",
   "mimetype": "text/x-python",
   "name": "python",
   "nbconvert_exporter": "python",
   "pygments_lexer": "ipython3",
   "version": "3.10.0"
  },
  "orig_nbformat": 4
 },
 "nbformat": 4,
 "nbformat_minor": 2
}
