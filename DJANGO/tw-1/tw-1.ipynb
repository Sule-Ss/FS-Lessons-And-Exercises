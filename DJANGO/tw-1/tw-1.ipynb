{
 "cells": [
  {
   "cell_type": "code",
   "execution_count": 5,
   "id": "aa9ad2cf-50d4-4938-8de6-93743e5fcce5",
   "metadata": {},
   "outputs": [],
   "source": [
    "## 1. Soru :\n",
    "\n",
    "# print(type(\"\"\"foo'bar\"\"\"), \"\"\"foo'bar\"\"\")\n",
    "# print(type('foo\\'bar'), 'foo\\'bar')\n",
    "# print(type('foo\"bar'), 'foo\"bar')\n",
    "# print(type(\"foo'bar\"), \"foo'bar\")\n",
    "# print(type('foo'bar'), 'foo'bar')"
   ]
  },
  {
   "cell_type": "code",
   "execution_count": 37,
   "id": "b838b54d-8ea2-4670-ab83-7121ac5245cf",
   "metadata": {
    "tags": []
   },
   "outputs": [
    {
     "name": "stdout",
     "output_type": "stream",
     "text": [
      "1\n",
      "2\n",
      "4\n"
     ]
    }
   ],
   "source": [
    "# 3. soru : \n",
    "\n",
    "if 'bar' in {'foo': 1, 'bar': 2, 'baz': 3}:\n",
    "    print(1)\n",
    "    print(2)\n",
    "    if 'a' in 'qux':\n",
    "         print(3)\n",
    "print(4)"
   ]
  },
  {
   "cell_type": "code",
   "execution_count": 39,
   "id": "cf590194-9252-4534-9c11-bcfd499f3edb",
   "metadata": {
    "tags": []
   },
   "outputs": [
    {
     "name": "stdout",
     "output_type": "stream",
     "text": [
      "30\n"
     ]
    }
   ],
   "source": [
    "# 4. Soru : \n",
    "\n",
    "x = ['a','b',{'foo': 1, 'bar':{'x' : 10,'y' : 20,'z' : 30},'baz': 3}, 'c','d']\n",
    "\n",
    "print(x[2][\"bar\"][\"z\"])"
   ]
  },
  {
   "cell_type": "code",
   "execution_count": 36,
   "id": "ba730f25-41db-4cda-aec4-a4dd1460bcae",
   "metadata": {
    "tags": []
   },
   "outputs": [
    {
     "data": {
      "text/plain": [
       "False"
      ]
     },
     "execution_count": 36,
     "metadata": {},
     "output_type": "execute_result"
    }
   ],
   "source": [
    "# 5. Soru :\n",
    "\"z\" in x[2]"
   ]
  },
  {
   "cell_type": "code",
   "execution_count": 33,
   "id": "0ab3c6d1-9fd9-4cfd-a7bf-956f9c0eb278",
   "metadata": {},
   "outputs": [
    {
     "data": {
      "text/plain": [
       "<__main__.Dog at 0x2537f7e8130>"
      ]
     },
     "execution_count": 33,
     "metadata": {},
     "output_type": "execute_result"
    }
   ],
   "source": [
    "# 6. soru :\n",
    "\n",
    "class Dog:\n",
    "    def __init__(self, name, age):\n",
    "        self.name = name\n",
    "        self.age = age\n",
    "        \n",
    "# Dog()\n",
    "# Dog.create(\"Rufus\",3)\n",
    "# Dog.__init__(\"Rufus\",3)\n",
    "Dog(\"Rufus\", 3)"
   ]
  },
  {
   "cell_type": "code",
   "execution_count": 34,
   "id": "a86c7680-6582-4067-a1f6-4f32f25c0db6",
   "metadata": {
    "tags": []
   },
   "outputs": [
    {
     "name": "stdout",
     "output_type": "stream",
     "text": [
      "Hello, my name is Bob and I am 25 years old!\n"
     ]
    }
   ],
   "source": [
    "# 7.soru :\n",
    "class Person:\n",
    "    def __init__(self, _name, _age):\n",
    "        self.name = _name\n",
    "        self.age = _age\n",
    "   \n",
    "    def sayHi(self):\n",
    "        print('Hello, my name is ' + self.name + ' and I am' , self.age , 'years old!')\n",
    "    \n",
    "p1 = Person('Bob', 25)\n",
    "p1.sayHi() # Prints: Hello, my name is Bob and I am 25 years old!"
   ]
  },
  {
   "cell_type": "code",
   "execution_count": 38,
   "id": "fc3602b2-c2ae-422c-b9ea-bdda600517ae",
   "metadata": {
    "tags": []
   },
   "outputs": [
    {
     "data": {
      "text/plain": [
       "'Woof!'"
      ]
     },
     "execution_count": 38,
     "metadata": {},
     "output_type": "execute_result"
    }
   ],
   "source": [
    "# 8. Soru :  \n",
    "\n",
    "class Dog:\n",
    "    def walk(self):\n",
    "        return \"*walking*\"\n",
    "    def speak(self):\n",
    "        return \"Woof!\"\n",
    "    \n",
    "class JackRussellTerrier(Dog):\n",
    "    def talk(self):\n",
    "        return super().speak()\n",
    "    \n",
    "bobo = JackRussellTerrier()\n",
    "\n",
    "bobo.talk()"
   ]
  },
  {
   "cell_type": "raw",
   "id": "25b2af3b-0fbb-471e-a1dd-0de23484f129",
   "metadata": {},
   "source": [
    "# 9. Soru : \n",
    "\n",
    "ORDER BY anahtar sözcüğü, sonuç kümesini artan veya azalan düzende sıralamak için kullanılır. ORDER BY anahtar sözcüğü kayıtları varsayılan olarak artan düzende sıralar. Kayıtları azalan düzende sıralamak için DESC anahtar sözcüğünü kullanın."
   ]
  },
  {
   "cell_type": "markdown",
   "id": "17a6d1e2-c522-4323-9037-9680baaede78",
   "metadata": {},
   "source": [
    "  \n",
    "###### Garip kurallara sahip bir beyzbol maçı için skor tutuyorsunuz. Oyun, geçmiş turların puanlarının gelecekteki turların puanlarını etkileyebileceği birkaç turdan oluşur.\n",
    "\n",
    "\n",
    "###### Oyunun başında boş bir kayıtla başlıyorsunuz. Size ops dizelerinin bir listesi verilir, burada ops[i] kayda uygulamanız gereken i. işlemdir ve aşağıdakilerden biridir:\n",
    "\n",
    "- x bir integer, Yeni bir x puanı kaydedin,\n",
    "- \"+\"  Önceki puanların toplamı olan yeni bir puan kaydedin. Her zaman önceki iki puan olacağı garanti edilir.\n",
    "- \"D\"  Önceki puanın iki katı olan yeni bir puan kaydedin. Her zaman bir önceki puan olacağı garanti edilir.\n",
    "- \"C\"  Geçersiz puanı geçersiz kılarak kayıttan çıkarın. Her zaman bir önceki puan olacağı garanti edilir.\n",
    "- Kayıttaki tüm puanların toplamını döndürün."
   ]
  },
  {
   "cell_type": "code",
   "execution_count": 2,
   "id": "3c0ce0e5-a065-4a04-8691-bd029b768bd5",
   "metadata": {},
   "outputs": [],
   "source": [
    "def calPoints(ops):\n",
    "    records = []\n",
    "    for i in ops:\n",
    "        if i not in [\"+\", \"D\", \"C\"]:\n",
    "            records.append(int(i))\n",
    "        elif i == \"D\":\n",
    "            records.append(2 * records[-1])\n",
    "        elif i == \"C\":\n",
    "            records.pop()\n",
    "        elif i == \"+\":\n",
    "            records.append(records[-1] + records[-2])\n",
    "    return sum(records)"
   ]
  },
  {
   "cell_type": "code",
   "execution_count": 3,
   "id": "cbff8915-59d9-4811-9a11-d4389897a7b7",
   "metadata": {},
   "outputs": [
    {
     "data": {
      "text/plain": [
       "30"
      ]
     },
     "execution_count": 3,
     "metadata": {},
     "output_type": "execute_result"
    }
   ],
   "source": [
    "calPoints([\"5\", \"2\", \"C\", \"D\", \"+\"])"
   ]
  },
  {
   "cell_type": "code",
   "execution_count": 4,
   "id": "19d44996-a0f1-409b-82af-0e3c74066eff",
   "metadata": {},
   "outputs": [
    {
     "data": {
      "text/plain": [
       "27"
      ]
     },
     "execution_count": 4,
     "metadata": {},
     "output_type": "execute_result"
    }
   ],
   "source": [
    "calPoints([\"5\", \"-2\", \"4\", \"C\", \"D\", \"9\", \"+\", \"+\"])"
   ]
  },
  {
   "cell_type": "code",
   "execution_count": null,
   "id": "7cbd6f9f",
   "metadata": {},
   "outputs": [],
   "source": []
  }
 ],
 "metadata": {
  "interpreter": {
   "hash": "f2ccb58c476f33ba3e3aee7ac07234ef6b8217ef24ad64d2a7d4fed1a57c1cd2"
  },
  "kernelspec": {
   "display_name": "Python 3.10.2 64-bit",
   "language": "python",
   "name": "python3"
  },
  "language_info": {
   "codemirror_mode": {
    "name": "ipython",
    "version": 3
   },
   "file_extension": ".py",
   "mimetype": "text/x-python",
   "name": "python",
   "nbconvert_exporter": "python",
   "pygments_lexer": "ipython3",
   "version": "3.10.2"
  }
 },
 "nbformat": 4,
 "nbformat_minor": 5
}
