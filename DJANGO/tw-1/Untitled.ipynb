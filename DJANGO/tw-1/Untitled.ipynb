{
 "cells": [
  {
   "cell_type": "code",
   "execution_count": 1,
   "id": "14268800-a6c7-440c-833b-bab6e723043f",
   "metadata": {},
   "outputs": [],
   "source": [
    "## 1. Soru :\n",
    "\n",
    "# print(type(\"\"\"foo'bar\"\"\"), \"\"\"foo'bar\"\"\")\n",
    "# print(type('foo\\'bar'), 'foo\\'bar')\n",
    "# print(type('foo\"bar'), 'foo\"bar')\n",
    "# print(type(\"foo'bar\"), \"foo'bar\")\n",
    "# print(type('foo'bar'), 'foo'bar')"
   ]
  },
  {
   "cell_type": "code",
   "execution_count": null,
   "id": "41701b10-cbcf-4727-a544-789488b73704",
   "metadata": {},
   "outputs": [],
   "source": [
    "# 3. soru : \n",
    "\n",
    "if 'bar' in {'foo': 1, 'bar': 2, 'baz': 3}:\n",
    "    print(1)\n",
    "    print(2)\n",
    "    if 'a' in 'qux':\n",
    "         print(3)\n",
    "print(4)"
   ]
  },
  {
   "cell_type": "code",
   "execution_count": null,
   "id": "2251ea56-4f49-4e8c-bc84-1437427ad53a",
   "metadata": {},
   "outputs": [],
   "source": [
    "# 4. Soru : \n",
    "\n",
    "x = ['a','b',{'foo': 1, 'bar':{'x' : 10,'y' : 20,'z' : 30},'baz': 3}, 'c','d']\n",
    "\n",
    "print(x[2][\"bar\"][\"z\"])"
   ]
  },
  {
   "cell_type": "code",
   "execution_count": null,
   "id": "c62835d3-a975-4234-aa5f-0e03870f365e",
   "metadata": {},
   "outputs": [],
   "source": [
    "# 5. Soru :\n",
    "\"z\" in x[2]"
   ]
  },
  {
   "cell_type": "code",
   "execution_count": null,
   "id": "623101c3-8e1f-4be6-a34a-c77ddc4c8092",
   "metadata": {},
   "outputs": [],
   "source": [
    "# 6. soru :\n",
    "\n",
    "class Dog:\n",
    "    def __init__(self, name, age):\n",
    "        self.name = name\n",
    "        self.age = age\n",
    "        \n",
    "# Dog()\n",
    "# Dog.create(\"Rufus\",3)\n",
    "# Dog.__init__(\"Rufus\",3)\n",
    "Dog(\"Rufus\", 3)"
   ]
  },
  {
   "cell_type": "code",
   "execution_count": null,
   "id": "603509b2-9a67-4301-b5b2-37674c8a108d",
   "metadata": {},
   "outputs": [],
   "source": [
    "# 7.soru :\n",
    "class Person:\n",
    "    def __init__(self, _name, _age):\n",
    "        self.name = _name\n",
    "        self.age = _age\n",
    "   \n",
    "    def sayHi(self):\n",
    "        print('Hello, my name is ' + self.name + ' and I am' , self.age , 'years old!')\n",
    "    \n",
    "p1 = Person('Bob', 25)\n",
    "p1.sayHi() # Prints: Hello, my name is Bob and I am 25 years old!"
   ]
  },
  {
   "cell_type": "code",
   "execution_count": null,
   "id": "3f8cd90c-9e6c-42fd-8b4a-f94fed5de7d9",
   "metadata": {},
   "outputs": [],
   "source": [
    "# 8. Soru :  \n",
    "\n",
    "class Dog:\n",
    "    def walk(self):\n",
    "        return \"*walking*\"\n",
    "    def speak(self):\n",
    "        return \"Woof!\"\n",
    "    \n",
    "class JackRussellTerrier(Dog):\n",
    "    def talk(self):\n",
    "        return super().speak()\n",
    "    \n",
    "bobo = JackRussellTerrier()\n",
    "\n",
    "bobo.talk()"
   ]
  },
  {
   "cell_type": "markdown",
   "id": "1b0bb6ed-7b49-4d0f-b7f6-7977e6e62b1c",
   "metadata": {},
   "source": [
    "##### Garip kurallara sahip bir beyzbol maçı için skor tutuyorsunuz. Oyun, geçmiş turların puanlarının gelecekteki turların puanlarını etkileyebileceği birkaç turdan oluşur.\n",
    "##### Oyunun başında boş bir kayıtla başlıyorsunuz. Size ops dizelerinin bir listesi verilir, burada ops[i] kayda uygulamanız gereken i. işlemdir ve aşağıdakilerden biridir:\n",
    "- x bir integer, Yeni bir x puanı kaydedin,\n",
    "- \"+\" Önceki puanların toplamı olan yeni bir puan kaydedin. Her zaman önceki iki puan olacağı garanti edilir.\n",
    "- \"D\" Önceki puanın iki katı olan yeni bir puan kaydedin. Her zaman bir önceki puan olacağı garanti edilir.\n",
    "- \"C\" Son puanı geçersiz kılarak kayıttan çıkarın. Her zaman bir önceki puan olacağı garanti edilir.\n",
    "- Kayıttaki tüm puanların toplamını döndürün."
   ]
  },
  {
   "cell_type": "code",
   "execution_count": 17,
   "id": "81b9b7ff-0563-4398-b221-26c8b01b7ca2",
   "metadata": {},
   "outputs": [
    {
     "name": "stdout",
     "output_type": "stream",
     "text": [
      "30\n"
     ]
    }
   ],
   "source": [
    "class Solution():\n",
    "    def calPoints(ops):\n",
    "        records = []\n",
    "        for i in ops:\n",
    "            if i not in [\"+\", \"D\", \"C\"]:\n",
    "                records.append(int(i))\n",
    "            elif i == \"D\":\n",
    "                records.append(2 * records[-1])\n",
    "            elif i == \"C\":\n",
    "                records.pop()\n",
    "            elif i == \"+\":\n",
    "                records.append(records[-1] + records[-2])\n",
    "        return sum(records)\n",
    "\n",
    "result = Solution.calPoints([\"5\", \"2\", \"C\", \"D\", \"+\"])\n",
    "# result = Solution.calPoints([\"5\", \"-2\", \"4\", \"C\", \"D\", \"9\", \"+\", \"+\"])\n",
    "print(result)\n"
   ]
  }
 ],
 "metadata": {
  "interpreter": {
   "hash": "f2ccb58c476f33ba3e3aee7ac07234ef6b8217ef24ad64d2a7d4fed1a57c1cd2"
  },
  "kernelspec": {
   "display_name": "Python 3.10.4 64-bit",
   "language": "python",
   "name": "python3"
  },
  "language_info": {
   "codemirror_mode": {
    "name": "ipython",
    "version": 3
   },
   "file_extension": ".py",
   "mimetype": "text/x-python",
   "name": "python",
   "nbconvert_exporter": "python",
   "pygments_lexer": "ipython3",
   "version": "3.10.4"
  }
 },
 "nbformat": 4,
 "nbformat_minor": 5
}
